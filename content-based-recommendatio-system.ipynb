{
 "cells": [
  {
   "cell_type": "code",
   "execution_count": 1,
   "id": "8626efa5",
   "metadata": {
    "_cell_guid": "b1076dfc-b9ad-4769-8c92-a6c4dae69d19",
    "_uuid": "8f2839f25d086af736a60e9eeb907d3b93b6e0e5",
    "execution": {
     "iopub.execute_input": "2024-02-27T11:08:44.410842Z",
     "iopub.status.busy": "2024-02-27T11:08:44.409925Z",
     "iopub.status.idle": "2024-02-27T11:08:45.570877Z",
     "shell.execute_reply": "2024-02-27T11:08:45.569354Z"
    },
    "papermill": {
     "duration": 1.174798,
     "end_time": "2024-02-27T11:08:45.574386",
     "exception": false,
     "start_time": "2024-02-27T11:08:44.399588",
     "status": "completed"
    },
    "tags": []
   },
   "outputs": [
    {
     "name": "stdout",
     "output_type": "stream",
     "text": [
      "/kaggle/input/tmdb-movie-metadata/tmdb_5000_movies.csv\n",
      "/kaggle/input/tmdb-movie-metadata/tmdb_5000_credits.csv\n"
     ]
    }
   ],
   "source": [
    "# This Python 3 environment comes with many helpful analytics libraries installed\n",
    "# It is defined by the kaggle/python Docker image: https://github.com/kaggle/docker-python\n",
    "# For example, here's several helpful packages to load\n",
    "\n",
    "import numpy as np # linear algebra\n",
    "import pandas as pd # data processing, CSV file I/O (e.g. pd.read_csv)\n",
    "\n",
    "# Input data files are available in the read-only \"../input/\" directory\n",
    "# For example, running this (by clicking run or pressing Shift+Enter) will list all files under the input directory\n",
    "\n",
    "import os\n",
    "for dirname, _, filenames in os.walk('/kaggle/input'):\n",
    "    for filename in filenames:\n",
    "        print(os.path.join(dirname, filename))\n",
    "\n",
    "# You can write up to 20GB to the current directory (/kaggle/working/) that gets preserved as output when you create a version using \"Save & Run All\" \n",
    "# You can also write temporary files to /kaggle/temp/, but they won't be saved outside of the current session"
   ]
  },
  {
   "cell_type": "code",
   "execution_count": 2,
   "id": "f8dd00c8",
   "metadata": {
    "execution": {
     "iopub.execute_input": "2024-02-27T11:08:45.593788Z",
     "iopub.status.busy": "2024-02-27T11:08:45.592468Z",
     "iopub.status.idle": "2024-02-27T11:08:46.961478Z",
     "shell.execute_reply": "2024-02-27T11:08:46.960197Z"
    },
    "papermill": {
     "duration": 1.381389,
     "end_time": "2024-02-27T11:08:46.964595",
     "exception": false,
     "start_time": "2024-02-27T11:08:45.583206",
     "status": "completed"
    },
    "tags": []
   },
   "outputs": [],
   "source": [
    "df_credits=pd.read_csv(\"/kaggle/input/tmdb-movie-metadata/tmdb_5000_credits.csv\")\n",
    "df_movies=pd.read_csv(\"/kaggle/input/tmdb-movie-metadata/tmdb_5000_movies.csv\")"
   ]
  },
  {
   "cell_type": "markdown",
   "id": "c8eaaa7f",
   "metadata": {
    "papermill": {
     "duration": 0.00754,
     "end_time": "2024-02-27T11:08:46.980287",
     "exception": false,
     "start_time": "2024-02-27T11:08:46.972747",
     "status": "completed"
    },
    "tags": []
   },
   "source": [
    "let's see the first five element in df_movies"
   ]
  },
  {
   "cell_type": "code",
   "execution_count": 3,
   "id": "66171f9b",
   "metadata": {
    "execution": {
     "iopub.execute_input": "2024-02-27T11:08:46.999159Z",
     "iopub.status.busy": "2024-02-27T11:08:46.998669Z",
     "iopub.status.idle": "2024-02-27T11:08:47.032627Z",
     "shell.execute_reply": "2024-02-27T11:08:47.031322Z"
    },
    "papermill": {
     "duration": 0.047628,
     "end_time": "2024-02-27T11:08:47.035775",
     "exception": false,
     "start_time": "2024-02-27T11:08:46.988147",
     "status": "completed"
    },
    "tags": []
   },
   "outputs": [
    {
     "data": {
      "text/html": [
       "<div>\n",
       "<style scoped>\n",
       "    .dataframe tbody tr th:only-of-type {\n",
       "        vertical-align: middle;\n",
       "    }\n",
       "\n",
       "    .dataframe tbody tr th {\n",
       "        vertical-align: top;\n",
       "    }\n",
       "\n",
       "    .dataframe thead th {\n",
       "        text-align: right;\n",
       "    }\n",
       "</style>\n",
       "<table border=\"1\" class=\"dataframe\">\n",
       "  <thead>\n",
       "    <tr style=\"text-align: right;\">\n",
       "      <th></th>\n",
       "      <th>budget</th>\n",
       "      <th>genres</th>\n",
       "      <th>homepage</th>\n",
       "      <th>id</th>\n",
       "      <th>keywords</th>\n",
       "      <th>original_language</th>\n",
       "      <th>original_title</th>\n",
       "      <th>overview</th>\n",
       "      <th>popularity</th>\n",
       "      <th>production_companies</th>\n",
       "      <th>production_countries</th>\n",
       "      <th>release_date</th>\n",
       "      <th>revenue</th>\n",
       "      <th>runtime</th>\n",
       "      <th>spoken_languages</th>\n",
       "      <th>status</th>\n",
       "      <th>tagline</th>\n",
       "      <th>title</th>\n",
       "      <th>vote_average</th>\n",
       "      <th>vote_count</th>\n",
       "    </tr>\n",
       "  </thead>\n",
       "  <tbody>\n",
       "    <tr>\n",
       "      <th>0</th>\n",
       "      <td>237000000</td>\n",
       "      <td>[{\"id\": 28, \"name\": \"Action\"}, {\"id\": 12, \"nam...</td>\n",
       "      <td>http://www.avatarmovie.com/</td>\n",
       "      <td>19995</td>\n",
       "      <td>[{\"id\": 1463, \"name\": \"culture clash\"}, {\"id\":...</td>\n",
       "      <td>en</td>\n",
       "      <td>Avatar</td>\n",
       "      <td>In the 22nd century, a paraplegic Marine is di...</td>\n",
       "      <td>150.437577</td>\n",
       "      <td>[{\"name\": \"Ingenious Film Partners\", \"id\": 289...</td>\n",
       "      <td>[{\"iso_3166_1\": \"US\", \"name\": \"United States o...</td>\n",
       "      <td>2009-12-10</td>\n",
       "      <td>2787965087</td>\n",
       "      <td>162.0</td>\n",
       "      <td>[{\"iso_639_1\": \"en\", \"name\": \"English\"}, {\"iso...</td>\n",
       "      <td>Released</td>\n",
       "      <td>Enter the World of Pandora.</td>\n",
       "      <td>Avatar</td>\n",
       "      <td>7.2</td>\n",
       "      <td>11800</td>\n",
       "    </tr>\n",
       "    <tr>\n",
       "      <th>1</th>\n",
       "      <td>300000000</td>\n",
       "      <td>[{\"id\": 12, \"name\": \"Adventure\"}, {\"id\": 14, \"...</td>\n",
       "      <td>http://disney.go.com/disneypictures/pirates/</td>\n",
       "      <td>285</td>\n",
       "      <td>[{\"id\": 270, \"name\": \"ocean\"}, {\"id\": 726, \"na...</td>\n",
       "      <td>en</td>\n",
       "      <td>Pirates of the Caribbean: At World's End</td>\n",
       "      <td>Captain Barbossa, long believed to be dead, ha...</td>\n",
       "      <td>139.082615</td>\n",
       "      <td>[{\"name\": \"Walt Disney Pictures\", \"id\": 2}, {\"...</td>\n",
       "      <td>[{\"iso_3166_1\": \"US\", \"name\": \"United States o...</td>\n",
       "      <td>2007-05-19</td>\n",
       "      <td>961000000</td>\n",
       "      <td>169.0</td>\n",
       "      <td>[{\"iso_639_1\": \"en\", \"name\": \"English\"}]</td>\n",
       "      <td>Released</td>\n",
       "      <td>At the end of the world, the adventure begins.</td>\n",
       "      <td>Pirates of the Caribbean: At World's End</td>\n",
       "      <td>6.9</td>\n",
       "      <td>4500</td>\n",
       "    </tr>\n",
       "    <tr>\n",
       "      <th>2</th>\n",
       "      <td>245000000</td>\n",
       "      <td>[{\"id\": 28, \"name\": \"Action\"}, {\"id\": 12, \"nam...</td>\n",
       "      <td>http://www.sonypictures.com/movies/spectre/</td>\n",
       "      <td>206647</td>\n",
       "      <td>[{\"id\": 470, \"name\": \"spy\"}, {\"id\": 818, \"name...</td>\n",
       "      <td>en</td>\n",
       "      <td>Spectre</td>\n",
       "      <td>A cryptic message from Bond’s past sends him o...</td>\n",
       "      <td>107.376788</td>\n",
       "      <td>[{\"name\": \"Columbia Pictures\", \"id\": 5}, {\"nam...</td>\n",
       "      <td>[{\"iso_3166_1\": \"GB\", \"name\": \"United Kingdom\"...</td>\n",
       "      <td>2015-10-26</td>\n",
       "      <td>880674609</td>\n",
       "      <td>148.0</td>\n",
       "      <td>[{\"iso_639_1\": \"fr\", \"name\": \"Fran\\u00e7ais\"},...</td>\n",
       "      <td>Released</td>\n",
       "      <td>A Plan No One Escapes</td>\n",
       "      <td>Spectre</td>\n",
       "      <td>6.3</td>\n",
       "      <td>4466</td>\n",
       "    </tr>\n",
       "    <tr>\n",
       "      <th>3</th>\n",
       "      <td>250000000</td>\n",
       "      <td>[{\"id\": 28, \"name\": \"Action\"}, {\"id\": 80, \"nam...</td>\n",
       "      <td>http://www.thedarkknightrises.com/</td>\n",
       "      <td>49026</td>\n",
       "      <td>[{\"id\": 849, \"name\": \"dc comics\"}, {\"id\": 853,...</td>\n",
       "      <td>en</td>\n",
       "      <td>The Dark Knight Rises</td>\n",
       "      <td>Following the death of District Attorney Harve...</td>\n",
       "      <td>112.312950</td>\n",
       "      <td>[{\"name\": \"Legendary Pictures\", \"id\": 923}, {\"...</td>\n",
       "      <td>[{\"iso_3166_1\": \"US\", \"name\": \"United States o...</td>\n",
       "      <td>2012-07-16</td>\n",
       "      <td>1084939099</td>\n",
       "      <td>165.0</td>\n",
       "      <td>[{\"iso_639_1\": \"en\", \"name\": \"English\"}]</td>\n",
       "      <td>Released</td>\n",
       "      <td>The Legend Ends</td>\n",
       "      <td>The Dark Knight Rises</td>\n",
       "      <td>7.6</td>\n",
       "      <td>9106</td>\n",
       "    </tr>\n",
       "    <tr>\n",
       "      <th>4</th>\n",
       "      <td>260000000</td>\n",
       "      <td>[{\"id\": 28, \"name\": \"Action\"}, {\"id\": 12, \"nam...</td>\n",
       "      <td>http://movies.disney.com/john-carter</td>\n",
       "      <td>49529</td>\n",
       "      <td>[{\"id\": 818, \"name\": \"based on novel\"}, {\"id\":...</td>\n",
       "      <td>en</td>\n",
       "      <td>John Carter</td>\n",
       "      <td>John Carter is a war-weary, former military ca...</td>\n",
       "      <td>43.926995</td>\n",
       "      <td>[{\"name\": \"Walt Disney Pictures\", \"id\": 2}]</td>\n",
       "      <td>[{\"iso_3166_1\": \"US\", \"name\": \"United States o...</td>\n",
       "      <td>2012-03-07</td>\n",
       "      <td>284139100</td>\n",
       "      <td>132.0</td>\n",
       "      <td>[{\"iso_639_1\": \"en\", \"name\": \"English\"}]</td>\n",
       "      <td>Released</td>\n",
       "      <td>Lost in our world, found in another.</td>\n",
       "      <td>John Carter</td>\n",
       "      <td>6.1</td>\n",
       "      <td>2124</td>\n",
       "    </tr>\n",
       "  </tbody>\n",
       "</table>\n",
       "</div>"
      ],
      "text/plain": [
       "      budget                                             genres  \\\n",
       "0  237000000  [{\"id\": 28, \"name\": \"Action\"}, {\"id\": 12, \"nam...   \n",
       "1  300000000  [{\"id\": 12, \"name\": \"Adventure\"}, {\"id\": 14, \"...   \n",
       "2  245000000  [{\"id\": 28, \"name\": \"Action\"}, {\"id\": 12, \"nam...   \n",
       "3  250000000  [{\"id\": 28, \"name\": \"Action\"}, {\"id\": 80, \"nam...   \n",
       "4  260000000  [{\"id\": 28, \"name\": \"Action\"}, {\"id\": 12, \"nam...   \n",
       "\n",
       "                                       homepage      id  \\\n",
       "0                   http://www.avatarmovie.com/   19995   \n",
       "1  http://disney.go.com/disneypictures/pirates/     285   \n",
       "2   http://www.sonypictures.com/movies/spectre/  206647   \n",
       "3            http://www.thedarkknightrises.com/   49026   \n",
       "4          http://movies.disney.com/john-carter   49529   \n",
       "\n",
       "                                            keywords original_language  \\\n",
       "0  [{\"id\": 1463, \"name\": \"culture clash\"}, {\"id\":...                en   \n",
       "1  [{\"id\": 270, \"name\": \"ocean\"}, {\"id\": 726, \"na...                en   \n",
       "2  [{\"id\": 470, \"name\": \"spy\"}, {\"id\": 818, \"name...                en   \n",
       "3  [{\"id\": 849, \"name\": \"dc comics\"}, {\"id\": 853,...                en   \n",
       "4  [{\"id\": 818, \"name\": \"based on novel\"}, {\"id\":...                en   \n",
       "\n",
       "                             original_title  \\\n",
       "0                                    Avatar   \n",
       "1  Pirates of the Caribbean: At World's End   \n",
       "2                                   Spectre   \n",
       "3                     The Dark Knight Rises   \n",
       "4                               John Carter   \n",
       "\n",
       "                                            overview  popularity  \\\n",
       "0  In the 22nd century, a paraplegic Marine is di...  150.437577   \n",
       "1  Captain Barbossa, long believed to be dead, ha...  139.082615   \n",
       "2  A cryptic message from Bond’s past sends him o...  107.376788   \n",
       "3  Following the death of District Attorney Harve...  112.312950   \n",
       "4  John Carter is a war-weary, former military ca...   43.926995   \n",
       "\n",
       "                                production_companies  \\\n",
       "0  [{\"name\": \"Ingenious Film Partners\", \"id\": 289...   \n",
       "1  [{\"name\": \"Walt Disney Pictures\", \"id\": 2}, {\"...   \n",
       "2  [{\"name\": \"Columbia Pictures\", \"id\": 5}, {\"nam...   \n",
       "3  [{\"name\": \"Legendary Pictures\", \"id\": 923}, {\"...   \n",
       "4        [{\"name\": \"Walt Disney Pictures\", \"id\": 2}]   \n",
       "\n",
       "                                production_countries release_date     revenue  \\\n",
       "0  [{\"iso_3166_1\": \"US\", \"name\": \"United States o...   2009-12-10  2787965087   \n",
       "1  [{\"iso_3166_1\": \"US\", \"name\": \"United States o...   2007-05-19   961000000   \n",
       "2  [{\"iso_3166_1\": \"GB\", \"name\": \"United Kingdom\"...   2015-10-26   880674609   \n",
       "3  [{\"iso_3166_1\": \"US\", \"name\": \"United States o...   2012-07-16  1084939099   \n",
       "4  [{\"iso_3166_1\": \"US\", \"name\": \"United States o...   2012-03-07   284139100   \n",
       "\n",
       "   runtime                                   spoken_languages    status  \\\n",
       "0    162.0  [{\"iso_639_1\": \"en\", \"name\": \"English\"}, {\"iso...  Released   \n",
       "1    169.0           [{\"iso_639_1\": \"en\", \"name\": \"English\"}]  Released   \n",
       "2    148.0  [{\"iso_639_1\": \"fr\", \"name\": \"Fran\\u00e7ais\"},...  Released   \n",
       "3    165.0           [{\"iso_639_1\": \"en\", \"name\": \"English\"}]  Released   \n",
       "4    132.0           [{\"iso_639_1\": \"en\", \"name\": \"English\"}]  Released   \n",
       "\n",
       "                                          tagline  \\\n",
       "0                     Enter the World of Pandora.   \n",
       "1  At the end of the world, the adventure begins.   \n",
       "2                           A Plan No One Escapes   \n",
       "3                                 The Legend Ends   \n",
       "4            Lost in our world, found in another.   \n",
       "\n",
       "                                      title  vote_average  vote_count  \n",
       "0                                    Avatar           7.2       11800  \n",
       "1  Pirates of the Caribbean: At World's End           6.9        4500  \n",
       "2                                   Spectre           6.3        4466  \n",
       "3                     The Dark Knight Rises           7.6        9106  \n",
       "4                               John Carter           6.1        2124  "
      ]
     },
     "execution_count": 3,
     "metadata": {},
     "output_type": "execute_result"
    }
   ],
   "source": [
    "df_movies.head()\n",
    "\n"
   ]
  },
  {
   "cell_type": "markdown",
   "id": "4a3603e6",
   "metadata": {
    "papermill": {
     "duration": 0.008161,
     "end_time": "2024-02-27T11:08:47.052376",
     "exception": false,
     "start_time": "2024-02-27T11:08:47.044215",
     "status": "completed"
    },
    "tags": []
   },
   "source": [
    "let's see the first five element in df_credits"
   ]
  },
  {
   "cell_type": "code",
   "execution_count": 4,
   "id": "539c783e",
   "metadata": {
    "execution": {
     "iopub.execute_input": "2024-02-27T11:08:47.072853Z",
     "iopub.status.busy": "2024-02-27T11:08:47.071567Z",
     "iopub.status.idle": "2024-02-27T11:08:47.086294Z",
     "shell.execute_reply": "2024-02-27T11:08:47.085044Z"
    },
    "papermill": {
     "duration": 0.027389,
     "end_time": "2024-02-27T11:08:47.088902",
     "exception": false,
     "start_time": "2024-02-27T11:08:47.061513",
     "status": "completed"
    },
    "tags": []
   },
   "outputs": [
    {
     "data": {
      "text/html": [
       "<div>\n",
       "<style scoped>\n",
       "    .dataframe tbody tr th:only-of-type {\n",
       "        vertical-align: middle;\n",
       "    }\n",
       "\n",
       "    .dataframe tbody tr th {\n",
       "        vertical-align: top;\n",
       "    }\n",
       "\n",
       "    .dataframe thead th {\n",
       "        text-align: right;\n",
       "    }\n",
       "</style>\n",
       "<table border=\"1\" class=\"dataframe\">\n",
       "  <thead>\n",
       "    <tr style=\"text-align: right;\">\n",
       "      <th></th>\n",
       "      <th>movie_id</th>\n",
       "      <th>title</th>\n",
       "      <th>cast</th>\n",
       "      <th>crew</th>\n",
       "    </tr>\n",
       "  </thead>\n",
       "  <tbody>\n",
       "    <tr>\n",
       "      <th>0</th>\n",
       "      <td>19995</td>\n",
       "      <td>Avatar</td>\n",
       "      <td>[{\"cast_id\": 242, \"character\": \"Jake Sully\", \"...</td>\n",
       "      <td>[{\"credit_id\": \"52fe48009251416c750aca23\", \"de...</td>\n",
       "    </tr>\n",
       "    <tr>\n",
       "      <th>1</th>\n",
       "      <td>285</td>\n",
       "      <td>Pirates of the Caribbean: At World's End</td>\n",
       "      <td>[{\"cast_id\": 4, \"character\": \"Captain Jack Spa...</td>\n",
       "      <td>[{\"credit_id\": \"52fe4232c3a36847f800b579\", \"de...</td>\n",
       "    </tr>\n",
       "    <tr>\n",
       "      <th>2</th>\n",
       "      <td>206647</td>\n",
       "      <td>Spectre</td>\n",
       "      <td>[{\"cast_id\": 1, \"character\": \"James Bond\", \"cr...</td>\n",
       "      <td>[{\"credit_id\": \"54805967c3a36829b5002c41\", \"de...</td>\n",
       "    </tr>\n",
       "    <tr>\n",
       "      <th>3</th>\n",
       "      <td>49026</td>\n",
       "      <td>The Dark Knight Rises</td>\n",
       "      <td>[{\"cast_id\": 2, \"character\": \"Bruce Wayne / Ba...</td>\n",
       "      <td>[{\"credit_id\": \"52fe4781c3a36847f81398c3\", \"de...</td>\n",
       "    </tr>\n",
       "    <tr>\n",
       "      <th>4</th>\n",
       "      <td>49529</td>\n",
       "      <td>John Carter</td>\n",
       "      <td>[{\"cast_id\": 5, \"character\": \"John Carter\", \"c...</td>\n",
       "      <td>[{\"credit_id\": \"52fe479ac3a36847f813eaa3\", \"de...</td>\n",
       "    </tr>\n",
       "  </tbody>\n",
       "</table>\n",
       "</div>"
      ],
      "text/plain": [
       "   movie_id                                     title  \\\n",
       "0     19995                                    Avatar   \n",
       "1       285  Pirates of the Caribbean: At World's End   \n",
       "2    206647                                   Spectre   \n",
       "3     49026                     The Dark Knight Rises   \n",
       "4     49529                               John Carter   \n",
       "\n",
       "                                                cast  \\\n",
       "0  [{\"cast_id\": 242, \"character\": \"Jake Sully\", \"...   \n",
       "1  [{\"cast_id\": 4, \"character\": \"Captain Jack Spa...   \n",
       "2  [{\"cast_id\": 1, \"character\": \"James Bond\", \"cr...   \n",
       "3  [{\"cast_id\": 2, \"character\": \"Bruce Wayne / Ba...   \n",
       "4  [{\"cast_id\": 5, \"character\": \"John Carter\", \"c...   \n",
       "\n",
       "                                                crew  \n",
       "0  [{\"credit_id\": \"52fe48009251416c750aca23\", \"de...  \n",
       "1  [{\"credit_id\": \"52fe4232c3a36847f800b579\", \"de...  \n",
       "2  [{\"credit_id\": \"54805967c3a36829b5002c41\", \"de...  \n",
       "3  [{\"credit_id\": \"52fe4781c3a36847f81398c3\", \"de...  \n",
       "4  [{\"credit_id\": \"52fe479ac3a36847f813eaa3\", \"de...  "
      ]
     },
     "execution_count": 4,
     "metadata": {},
     "output_type": "execute_result"
    }
   ],
   "source": [
    "df_credits.head()"
   ]
  },
  {
   "cell_type": "code",
   "execution_count": 5,
   "id": "5e03cc03",
   "metadata": {
    "execution": {
     "iopub.execute_input": "2024-02-27T11:08:47.108911Z",
     "iopub.status.busy": "2024-02-27T11:08:47.108056Z",
     "iopub.status.idle": "2024-02-27T11:08:47.116141Z",
     "shell.execute_reply": "2024-02-27T11:08:47.114387Z"
    },
    "papermill": {
     "duration": 0.021407,
     "end_time": "2024-02-27T11:08:47.119118",
     "exception": false,
     "start_time": "2024-02-27T11:08:47.097711",
     "status": "completed"
    },
    "tags": []
   },
   "outputs": [
    {
     "name": "stdout",
     "output_type": "stream",
     "text": [
      "credits (4803, 4)\n",
      "movies  (4803, 20)\n"
     ]
    }
   ],
   "source": [
    "print(\"credits\",df_credits.shape)\n",
    "print(\"movies \",df_movies.shape)"
   ]
  },
  {
   "cell_type": "markdown",
   "id": "088f1d19",
   "metadata": {
    "papermill": {
     "duration": 0.008631,
     "end_time": "2024-02-27T11:08:47.136636",
     "exception": false,
     "start_time": "2024-02-27T11:08:47.128005",
     "status": "completed"
    },
    "tags": []
   },
   "source": [
    "we want to merge this datasets,we see in the variables in both dataframe ,there is a column in common.so, we will merge it on this column"
   ]
  },
  {
   "cell_type": "code",
   "execution_count": 6,
   "id": "5ff0aab1",
   "metadata": {
    "execution": {
     "iopub.execute_input": "2024-02-27T11:08:47.157652Z",
     "iopub.status.busy": "2024-02-27T11:08:47.157205Z",
     "iopub.status.idle": "2024-02-27T11:08:47.214435Z",
     "shell.execute_reply": "2024-02-27T11:08:47.213220Z"
    },
    "papermill": {
     "duration": 0.071684,
     "end_time": "2024-02-27T11:08:47.217391",
     "exception": false,
     "start_time": "2024-02-27T11:08:47.145707",
     "status": "completed"
    },
    "tags": []
   },
   "outputs": [
    {
     "data": {
      "text/html": [
       "<div>\n",
       "<style scoped>\n",
       "    .dataframe tbody tr th:only-of-type {\n",
       "        vertical-align: middle;\n",
       "    }\n",
       "\n",
       "    .dataframe tbody tr th {\n",
       "        vertical-align: top;\n",
       "    }\n",
       "\n",
       "    .dataframe thead th {\n",
       "        text-align: right;\n",
       "    }\n",
       "</style>\n",
       "<table border=\"1\" class=\"dataframe\">\n",
       "  <thead>\n",
       "    <tr style=\"text-align: right;\">\n",
       "      <th></th>\n",
       "      <th>budget</th>\n",
       "      <th>genres</th>\n",
       "      <th>homepage</th>\n",
       "      <th>id</th>\n",
       "      <th>keywords</th>\n",
       "      <th>original_language</th>\n",
       "      <th>original_title</th>\n",
       "      <th>overview</th>\n",
       "      <th>popularity</th>\n",
       "      <th>production_companies</th>\n",
       "      <th>production_countries</th>\n",
       "      <th>release_date</th>\n",
       "      <th>revenue</th>\n",
       "      <th>runtime</th>\n",
       "      <th>spoken_languages</th>\n",
       "      <th>status</th>\n",
       "      <th>tagline</th>\n",
       "      <th>title</th>\n",
       "      <th>vote_average</th>\n",
       "      <th>vote_count</th>\n",
       "    </tr>\n",
       "  </thead>\n",
       "  <tbody>\n",
       "    <tr>\n",
       "      <th>0</th>\n",
       "      <td>237000000</td>\n",
       "      <td>[{\"id\": 28, \"name\": \"Action\"}, {\"id\": 12, \"nam...</td>\n",
       "      <td>http://www.avatarmovie.com/</td>\n",
       "      <td>19995</td>\n",
       "      <td>[{\"id\": 1463, \"name\": \"culture clash\"}, {\"id\":...</td>\n",
       "      <td>en</td>\n",
       "      <td>Avatar</td>\n",
       "      <td>In the 22nd century, a paraplegic Marine is di...</td>\n",
       "      <td>150.437577</td>\n",
       "      <td>[{\"name\": \"Ingenious Film Partners\", \"id\": 289...</td>\n",
       "      <td>[{\"iso_3166_1\": \"US\", \"name\": \"United States o...</td>\n",
       "      <td>2009-12-10</td>\n",
       "      <td>2787965087</td>\n",
       "      <td>162.0</td>\n",
       "      <td>[{\"iso_639_1\": \"en\", \"name\": \"English\"}, {\"iso...</td>\n",
       "      <td>Released</td>\n",
       "      <td>Enter the World of Pandora.</td>\n",
       "      <td>Avatar</td>\n",
       "      <td>7.2</td>\n",
       "      <td>11800</td>\n",
       "    </tr>\n",
       "    <tr>\n",
       "      <th>1</th>\n",
       "      <td>300000000</td>\n",
       "      <td>[{\"id\": 12, \"name\": \"Adventure\"}, {\"id\": 14, \"...</td>\n",
       "      <td>http://disney.go.com/disneypictures/pirates/</td>\n",
       "      <td>285</td>\n",
       "      <td>[{\"id\": 270, \"name\": \"ocean\"}, {\"id\": 726, \"na...</td>\n",
       "      <td>en</td>\n",
       "      <td>Pirates of the Caribbean: At World's End</td>\n",
       "      <td>Captain Barbossa, long believed to be dead, ha...</td>\n",
       "      <td>139.082615</td>\n",
       "      <td>[{\"name\": \"Walt Disney Pictures\", \"id\": 2}, {\"...</td>\n",
       "      <td>[{\"iso_3166_1\": \"US\", \"name\": \"United States o...</td>\n",
       "      <td>2007-05-19</td>\n",
       "      <td>961000000</td>\n",
       "      <td>169.0</td>\n",
       "      <td>[{\"iso_639_1\": \"en\", \"name\": \"English\"}]</td>\n",
       "      <td>Released</td>\n",
       "      <td>At the end of the world, the adventure begins.</td>\n",
       "      <td>Pirates of the Caribbean: At World's End</td>\n",
       "      <td>6.9</td>\n",
       "      <td>4500</td>\n",
       "    </tr>\n",
       "    <tr>\n",
       "      <th>2</th>\n",
       "      <td>245000000</td>\n",
       "      <td>[{\"id\": 28, \"name\": \"Action\"}, {\"id\": 12, \"nam...</td>\n",
       "      <td>http://www.sonypictures.com/movies/spectre/</td>\n",
       "      <td>206647</td>\n",
       "      <td>[{\"id\": 470, \"name\": \"spy\"}, {\"id\": 818, \"name...</td>\n",
       "      <td>en</td>\n",
       "      <td>Spectre</td>\n",
       "      <td>A cryptic message from Bond’s past sends him o...</td>\n",
       "      <td>107.376788</td>\n",
       "      <td>[{\"name\": \"Columbia Pictures\", \"id\": 5}, {\"nam...</td>\n",
       "      <td>[{\"iso_3166_1\": \"GB\", \"name\": \"United Kingdom\"...</td>\n",
       "      <td>2015-10-26</td>\n",
       "      <td>880674609</td>\n",
       "      <td>148.0</td>\n",
       "      <td>[{\"iso_639_1\": \"fr\", \"name\": \"Fran\\u00e7ais\"},...</td>\n",
       "      <td>Released</td>\n",
       "      <td>A Plan No One Escapes</td>\n",
       "      <td>Spectre</td>\n",
       "      <td>6.3</td>\n",
       "      <td>4466</td>\n",
       "    </tr>\n",
       "    <tr>\n",
       "      <th>3</th>\n",
       "      <td>250000000</td>\n",
       "      <td>[{\"id\": 28, \"name\": \"Action\"}, {\"id\": 80, \"nam...</td>\n",
       "      <td>http://www.thedarkknightrises.com/</td>\n",
       "      <td>49026</td>\n",
       "      <td>[{\"id\": 849, \"name\": \"dc comics\"}, {\"id\": 853,...</td>\n",
       "      <td>en</td>\n",
       "      <td>The Dark Knight Rises</td>\n",
       "      <td>Following the death of District Attorney Harve...</td>\n",
       "      <td>112.312950</td>\n",
       "      <td>[{\"name\": \"Legendary Pictures\", \"id\": 923}, {\"...</td>\n",
       "      <td>[{\"iso_3166_1\": \"US\", \"name\": \"United States o...</td>\n",
       "      <td>2012-07-16</td>\n",
       "      <td>1084939099</td>\n",
       "      <td>165.0</td>\n",
       "      <td>[{\"iso_639_1\": \"en\", \"name\": \"English\"}]</td>\n",
       "      <td>Released</td>\n",
       "      <td>The Legend Ends</td>\n",
       "      <td>The Dark Knight Rises</td>\n",
       "      <td>7.6</td>\n",
       "      <td>9106</td>\n",
       "    </tr>\n",
       "    <tr>\n",
       "      <th>4</th>\n",
       "      <td>260000000</td>\n",
       "      <td>[{\"id\": 28, \"name\": \"Action\"}, {\"id\": 12, \"nam...</td>\n",
       "      <td>http://movies.disney.com/john-carter</td>\n",
       "      <td>49529</td>\n",
       "      <td>[{\"id\": 818, \"name\": \"based on novel\"}, {\"id\":...</td>\n",
       "      <td>en</td>\n",
       "      <td>John Carter</td>\n",
       "      <td>John Carter is a war-weary, former military ca...</td>\n",
       "      <td>43.926995</td>\n",
       "      <td>[{\"name\": \"Walt Disney Pictures\", \"id\": 2}]</td>\n",
       "      <td>[{\"iso_3166_1\": \"US\", \"name\": \"United States o...</td>\n",
       "      <td>2012-03-07</td>\n",
       "      <td>284139100</td>\n",
       "      <td>132.0</td>\n",
       "      <td>[{\"iso_639_1\": \"en\", \"name\": \"English\"}]</td>\n",
       "      <td>Released</td>\n",
       "      <td>Lost in our world, found in another.</td>\n",
       "      <td>John Carter</td>\n",
       "      <td>6.1</td>\n",
       "      <td>2124</td>\n",
       "    </tr>\n",
       "  </tbody>\n",
       "</table>\n",
       "</div>"
      ],
      "text/plain": [
       "      budget                                             genres  \\\n",
       "0  237000000  [{\"id\": 28, \"name\": \"Action\"}, {\"id\": 12, \"nam...   \n",
       "1  300000000  [{\"id\": 12, \"name\": \"Adventure\"}, {\"id\": 14, \"...   \n",
       "2  245000000  [{\"id\": 28, \"name\": \"Action\"}, {\"id\": 12, \"nam...   \n",
       "3  250000000  [{\"id\": 28, \"name\": \"Action\"}, {\"id\": 80, \"nam...   \n",
       "4  260000000  [{\"id\": 28, \"name\": \"Action\"}, {\"id\": 12, \"nam...   \n",
       "\n",
       "                                       homepage      id  \\\n",
       "0                   http://www.avatarmovie.com/   19995   \n",
       "1  http://disney.go.com/disneypictures/pirates/     285   \n",
       "2   http://www.sonypictures.com/movies/spectre/  206647   \n",
       "3            http://www.thedarkknightrises.com/   49026   \n",
       "4          http://movies.disney.com/john-carter   49529   \n",
       "\n",
       "                                            keywords original_language  \\\n",
       "0  [{\"id\": 1463, \"name\": \"culture clash\"}, {\"id\":...                en   \n",
       "1  [{\"id\": 270, \"name\": \"ocean\"}, {\"id\": 726, \"na...                en   \n",
       "2  [{\"id\": 470, \"name\": \"spy\"}, {\"id\": 818, \"name...                en   \n",
       "3  [{\"id\": 849, \"name\": \"dc comics\"}, {\"id\": 853,...                en   \n",
       "4  [{\"id\": 818, \"name\": \"based on novel\"}, {\"id\":...                en   \n",
       "\n",
       "                             original_title  \\\n",
       "0                                    Avatar   \n",
       "1  Pirates of the Caribbean: At World's End   \n",
       "2                                   Spectre   \n",
       "3                     The Dark Knight Rises   \n",
       "4                               John Carter   \n",
       "\n",
       "                                            overview  popularity  \\\n",
       "0  In the 22nd century, a paraplegic Marine is di...  150.437577   \n",
       "1  Captain Barbossa, long believed to be dead, ha...  139.082615   \n",
       "2  A cryptic message from Bond’s past sends him o...  107.376788   \n",
       "3  Following the death of District Attorney Harve...  112.312950   \n",
       "4  John Carter is a war-weary, former military ca...   43.926995   \n",
       "\n",
       "                                production_companies  \\\n",
       "0  [{\"name\": \"Ingenious Film Partners\", \"id\": 289...   \n",
       "1  [{\"name\": \"Walt Disney Pictures\", \"id\": 2}, {\"...   \n",
       "2  [{\"name\": \"Columbia Pictures\", \"id\": 5}, {\"nam...   \n",
       "3  [{\"name\": \"Legendary Pictures\", \"id\": 923}, {\"...   \n",
       "4        [{\"name\": \"Walt Disney Pictures\", \"id\": 2}]   \n",
       "\n",
       "                                production_countries release_date     revenue  \\\n",
       "0  [{\"iso_3166_1\": \"US\", \"name\": \"United States o...   2009-12-10  2787965087   \n",
       "1  [{\"iso_3166_1\": \"US\", \"name\": \"United States o...   2007-05-19   961000000   \n",
       "2  [{\"iso_3166_1\": \"GB\", \"name\": \"United Kingdom\"...   2015-10-26   880674609   \n",
       "3  [{\"iso_3166_1\": \"US\", \"name\": \"United States o...   2012-07-16  1084939099   \n",
       "4  [{\"iso_3166_1\": \"US\", \"name\": \"United States o...   2012-03-07   284139100   \n",
       "\n",
       "   runtime                                   spoken_languages    status  \\\n",
       "0    162.0  [{\"iso_639_1\": \"en\", \"name\": \"English\"}, {\"iso...  Released   \n",
       "1    169.0           [{\"iso_639_1\": \"en\", \"name\": \"English\"}]  Released   \n",
       "2    148.0  [{\"iso_639_1\": \"fr\", \"name\": \"Fran\\u00e7ais\"},...  Released   \n",
       "3    165.0           [{\"iso_639_1\": \"en\", \"name\": \"English\"}]  Released   \n",
       "4    132.0           [{\"iso_639_1\": \"en\", \"name\": \"English\"}]  Released   \n",
       "\n",
       "                                          tagline  \\\n",
       "0                     Enter the World of Pandora.   \n",
       "1  At the end of the world, the adventure begins.   \n",
       "2                           A Plan No One Escapes   \n",
       "3                                 The Legend Ends   \n",
       "4            Lost in our world, found in another.   \n",
       "\n",
       "                                      title  vote_average  vote_count  \n",
       "0                                    Avatar           7.2       11800  \n",
       "1  Pirates of the Caribbean: At World's End           6.9        4500  \n",
       "2                                   Spectre           6.3        4466  \n",
       "3                     The Dark Knight Rises           7.6        9106  \n",
       "4                               John Carter           6.1        2124  "
      ]
     },
     "execution_count": 6,
     "metadata": {},
     "output_type": "execute_result"
    }
   ],
   "source": [
    "df_credits = df_credits.rename(index=str,columns={\"movie_id\":\"id\"})\n",
    "df_movies_merged=df_movies.merge(df_credits,on=\"id\")\n",
    "df_movies.head()"
   ]
  },
  {
   "cell_type": "code",
   "execution_count": 7,
   "id": "9615fc15",
   "metadata": {
    "execution": {
     "iopub.execute_input": "2024-02-27T11:08:47.239379Z",
     "iopub.status.busy": "2024-02-27T11:08:47.238876Z",
     "iopub.status.idle": "2024-02-27T11:08:47.245253Z",
     "shell.execute_reply": "2024-02-27T11:08:47.243979Z"
    },
    "papermill": {
     "duration": 0.021754,
     "end_time": "2024-02-27T11:08:47.248656",
     "exception": false,
     "start_time": "2024-02-27T11:08:47.226902",
     "status": "completed"
    },
    "tags": []
   },
   "outputs": [
    {
     "name": "stdout",
     "output_type": "stream",
     "text": [
      "(4803, 23)\n"
     ]
    }
   ],
   "source": [
    "print(df_movies_merged.shape)"
   ]
  },
  {
   "cell_type": "code",
   "execution_count": 8,
   "id": "0f88c51c",
   "metadata": {
    "execution": {
     "iopub.execute_input": "2024-02-27T11:08:47.272914Z",
     "iopub.status.busy": "2024-02-27T11:08:47.272049Z",
     "iopub.status.idle": "2024-02-27T11:08:47.305480Z",
     "shell.execute_reply": "2024-02-27T11:08:47.304242Z"
    },
    "papermill": {
     "duration": 0.049466,
     "end_time": "2024-02-27T11:08:47.308133",
     "exception": false,
     "start_time": "2024-02-27T11:08:47.258667",
     "status": "completed"
    },
    "tags": []
   },
   "outputs": [
    {
     "name": "stdout",
     "output_type": "stream",
     "text": [
      "<class 'pandas.core.frame.DataFrame'>\n",
      "RangeIndex: 4803 entries, 0 to 4802\n",
      "Data columns (total 23 columns):\n",
      " #   Column                Non-Null Count  Dtype  \n",
      "---  ------                --------------  -----  \n",
      " 0   budget                4803 non-null   int64  \n",
      " 1   genres                4803 non-null   object \n",
      " 2   homepage              1712 non-null   object \n",
      " 3   id                    4803 non-null   int64  \n",
      " 4   keywords              4803 non-null   object \n",
      " 5   original_language     4803 non-null   object \n",
      " 6   original_title        4803 non-null   object \n",
      " 7   overview              4800 non-null   object \n",
      " 8   popularity            4803 non-null   float64\n",
      " 9   production_companies  4803 non-null   object \n",
      " 10  production_countries  4803 non-null   object \n",
      " 11  release_date          4802 non-null   object \n",
      " 12  revenue               4803 non-null   int64  \n",
      " 13  runtime               4801 non-null   float64\n",
      " 14  spoken_languages      4803 non-null   object \n",
      " 15  status                4803 non-null   object \n",
      " 16  tagline               3959 non-null   object \n",
      " 17  title_x               4803 non-null   object \n",
      " 18  vote_average          4803 non-null   float64\n",
      " 19  vote_count            4803 non-null   int64  \n",
      " 20  title_y               4803 non-null   object \n",
      " 21  cast                  4803 non-null   object \n",
      " 22  crew                  4803 non-null   object \n",
      "dtypes: float64(3), int64(4), object(16)\n",
      "memory usage: 863.2+ KB\n"
     ]
    }
   ],
   "source": [
    "df_movies_merged.info()"
   ]
  },
  {
   "cell_type": "markdown",
   "id": "8507ecc7",
   "metadata": {
    "papermill": {
     "duration": 0.010446,
     "end_time": "2024-02-27T11:08:47.329609",
     "exception": false,
     "start_time": "2024-02-27T11:08:47.319163",
     "status": "completed"
    },
    "tags": []
   },
   "source": [
    "so now after we organize our data ,lets build the model,we'll focus on the overview column "
   ]
  },
  {
   "cell_type": "code",
   "execution_count": 9,
   "id": "7420ca8d",
   "metadata": {
    "execution": {
     "iopub.execute_input": "2024-02-27T11:08:47.353690Z",
     "iopub.status.busy": "2024-02-27T11:08:47.352963Z",
     "iopub.status.idle": "2024-02-27T11:08:47.361820Z",
     "shell.execute_reply": "2024-02-27T11:08:47.360460Z"
    },
    "papermill": {
     "duration": 0.023775,
     "end_time": "2024-02-27T11:08:47.364441",
     "exception": false,
     "start_time": "2024-02-27T11:08:47.340666",
     "status": "completed"
    },
    "tags": []
   },
   "outputs": [
    {
     "data": {
      "text/plain": [
       "0    In the 22nd century, a paraplegic Marine is di...\n",
       "Name: overview, dtype: object"
      ]
     },
     "execution_count": 9,
     "metadata": {},
     "output_type": "execute_result"
    }
   ],
   "source": [
    "df_movies_merged.head(1)['overview']"
   ]
  },
  {
   "cell_type": "code",
   "execution_count": 10,
   "id": "a90c5245",
   "metadata": {
    "execution": {
     "iopub.execute_input": "2024-02-27T11:08:47.386489Z",
     "iopub.status.busy": "2024-02-27T11:08:47.386067Z",
     "iopub.status.idle": "2024-02-27T11:08:48.926868Z",
     "shell.execute_reply": "2024-02-27T11:08:48.925239Z"
    },
    "papermill": {
     "duration": 1.555409,
     "end_time": "2024-02-27T11:08:48.929981",
     "exception": false,
     "start_time": "2024-02-27T11:08:47.374572",
     "status": "completed"
    },
    "tags": []
   },
   "outputs": [],
   "source": [
    "from  sklearn.feature_extraction.text import TfidfVectorizer\n",
    "\n",
    "tfv=TfidfVectorizer(min_df=3, max_features=None,\n",
    "            strip_accents='unicode', analyzer='word', token_pattern=r'\\w{1,}'\n",
    "                   ,ngram_range=(1,3),stop_words='english')\n",
    "\n",
    "df_movies_merged['overview']=df_movies_merged['overview'].fillna('')\n"
   ]
  },
  {
   "cell_type": "code",
   "execution_count": 11,
   "id": "874c0987",
   "metadata": {
    "execution": {
     "iopub.execute_input": "2024-02-27T11:08:48.954274Z",
     "iopub.status.busy": "2024-02-27T11:08:48.953076Z",
     "iopub.status.idle": "2024-02-27T11:08:50.377016Z",
     "shell.execute_reply": "2024-02-27T11:08:50.375445Z"
    },
    "papermill": {
     "duration": 1.43995,
     "end_time": "2024-02-27T11:08:50.380168",
     "exception": false,
     "start_time": "2024-02-27T11:08:48.940218",
     "status": "completed"
    },
    "tags": []
   },
   "outputs": [],
   "source": [
    "#fitting the Tf-IDF on the 'overview' text\n",
    "tfv_matrix = tfv.fit_transform(df_movies_merged['overview'])\n"
   ]
  },
  {
   "cell_type": "code",
   "execution_count": 12,
   "id": "57bf8ca5",
   "metadata": {
    "execution": {
     "iopub.execute_input": "2024-02-27T11:08:50.403484Z",
     "iopub.status.busy": "2024-02-27T11:08:50.403001Z",
     "iopub.status.idle": "2024-02-27T11:08:50.410803Z",
     "shell.execute_reply": "2024-02-27T11:08:50.409603Z"
    },
    "papermill": {
     "duration": 0.022556,
     "end_time": "2024-02-27T11:08:50.413510",
     "exception": false,
     "start_time": "2024-02-27T11:08:50.390954",
     "status": "completed"
    },
    "tags": []
   },
   "outputs": [
    {
     "data": {
      "text/plain": [
       "<4803x10417 sparse matrix of type '<class 'numpy.float64'>'\n",
       "\twith 127220 stored elements in Compressed Sparse Row format>"
      ]
     },
     "execution_count": 12,
     "metadata": {},
     "output_type": "execute_result"
    }
   ],
   "source": [
    "tfv_matrix"
   ]
  },
  {
   "cell_type": "code",
   "execution_count": 13,
   "id": "3cd85935",
   "metadata": {
    "execution": {
     "iopub.execute_input": "2024-02-27T11:08:50.436845Z",
     "iopub.status.busy": "2024-02-27T11:08:50.436354Z",
     "iopub.status.idle": "2024-02-27T11:08:50.443761Z",
     "shell.execute_reply": "2024-02-27T11:08:50.442516Z"
    },
    "papermill": {
     "duration": 0.022499,
     "end_time": "2024-02-27T11:08:50.446610",
     "exception": false,
     "start_time": "2024-02-27T11:08:50.424111",
     "status": "completed"
    },
    "tags": []
   },
   "outputs": [
    {
     "data": {
      "text/plain": [
       "(4803, 10417)"
      ]
     },
     "execution_count": 13,
     "metadata": {},
     "output_type": "execute_result"
    }
   ],
   "source": [
    "tfv_matrix.shape"
   ]
  },
  {
   "cell_type": "code",
   "execution_count": 14,
   "id": "16801806",
   "metadata": {
    "execution": {
     "iopub.execute_input": "2024-02-27T11:08:50.471384Z",
     "iopub.status.busy": "2024-02-27T11:08:50.470870Z",
     "iopub.status.idle": "2024-02-27T11:08:52.812925Z",
     "shell.execute_reply": "2024-02-27T11:08:52.811785Z"
    },
    "papermill": {
     "duration": 2.357255,
     "end_time": "2024-02-27T11:08:52.815651",
     "exception": false,
     "start_time": "2024-02-27T11:08:50.458396",
     "status": "completed"
    },
    "tags": []
   },
   "outputs": [],
   "source": [
    "from sklearn.metrics.pairwise import sigmoid_kernel\n",
    "#now,we'll calcute the similarity between movies\n",
    "# by multipicate the the column of matrix features by\n",
    "#other\n",
    "sig=sigmoid_kernel(tfv_matrix,tfv_matrix)"
   ]
  },
  {
   "cell_type": "markdown",
   "id": "e9ca07d6",
   "metadata": {
    "papermill": {
     "duration": 0.010641,
     "end_time": "2024-02-27T11:08:52.837568",
     "exception": false,
     "start_time": "2024-02-27T11:08:52.826927",
     "status": "completed"
    },
    "tags": []
   },
   "source": [
    "let's see the similarity between the first movie (index=0) and others movies"
   ]
  },
  {
   "cell_type": "code",
   "execution_count": 15,
   "id": "b8668fd1",
   "metadata": {
    "execution": {
     "iopub.execute_input": "2024-02-27T11:08:52.862291Z",
     "iopub.status.busy": "2024-02-27T11:08:52.861781Z",
     "iopub.status.idle": "2024-02-27T11:08:52.869996Z",
     "shell.execute_reply": "2024-02-27T11:08:52.868977Z"
    },
    "papermill": {
     "duration": 0.0234,
     "end_time": "2024-02-27T11:08:52.872245",
     "exception": false,
     "start_time": "2024-02-27T11:08:52.848845",
     "status": "completed"
    },
    "tags": []
   },
   "outputs": [
    {
     "data": {
      "text/plain": [
       "array([0.76163447, 0.76159416, 0.76159416, ..., 0.76159416, 0.76159416,\n",
       "       0.76159416])"
      ]
     },
     "execution_count": 15,
     "metadata": {},
     "output_type": "execute_result"
    }
   ],
   "source": [
    "sig[0]"
   ]
  },
  {
   "cell_type": "code",
   "execution_count": 16,
   "id": "42b02808",
   "metadata": {
    "execution": {
     "iopub.execute_input": "2024-02-27T11:08:52.897035Z",
     "iopub.status.busy": "2024-02-27T11:08:52.896097Z",
     "iopub.status.idle": "2024-02-27T11:08:52.905282Z",
     "shell.execute_reply": "2024-02-27T11:08:52.904020Z"
    },
    "papermill": {
     "duration": 0.02479,
     "end_time": "2024-02-27T11:08:52.908171",
     "exception": false,
     "start_time": "2024-02-27T11:08:52.883381",
     "status": "completed"
    },
    "tags": []
   },
   "outputs": [],
   "source": [
    "#mapping of indices and movie titles\n",
    "indices=pd.Series(df_movies_merged.index,index=df_movies_merged['original_title']).drop_duplicates()"
   ]
  },
  {
   "cell_type": "code",
   "execution_count": 17,
   "id": "e1d57146",
   "metadata": {
    "execution": {
     "iopub.execute_input": "2024-02-27T11:08:52.933268Z",
     "iopub.status.busy": "2024-02-27T11:08:52.932746Z",
     "iopub.status.idle": "2024-02-27T11:08:52.948509Z",
     "shell.execute_reply": "2024-02-27T11:08:52.947242Z"
    },
    "papermill": {
     "duration": 0.031491,
     "end_time": "2024-02-27T11:08:52.951235",
     "exception": false,
     "start_time": "2024-02-27T11:08:52.919744",
     "status": "completed"
    },
    "tags": []
   },
   "outputs": [
    {
     "data": {
      "text/plain": [
       "original_title\n",
       "Avatar                                         0\n",
       "Pirates of the Caribbean: At World's End       1\n",
       "Spectre                                        2\n",
       "The Dark Knight Rises                          3\n",
       "John Carter                                    4\n",
       "                                            ... \n",
       "El Mariachi                                 4798\n",
       "Newlyweds                                   4799\n",
       "Signed, Sealed, Delivered                   4800\n",
       "Shanghai Calling                            4801\n",
       "My Date with Drew                           4802\n",
       "Length: 4803, dtype: int64"
      ]
     },
     "execution_count": 17,
     "metadata": {},
     "output_type": "execute_result"
    }
   ],
   "source": [
    "indices"
   ]
  },
  {
   "cell_type": "code",
   "execution_count": 18,
   "id": "e7517cb3",
   "metadata": {
    "execution": {
     "iopub.execute_input": "2024-02-27T11:08:52.977553Z",
     "iopub.status.busy": "2024-02-27T11:08:52.977097Z",
     "iopub.status.idle": "2024-02-27T11:08:52.984164Z",
     "shell.execute_reply": "2024-02-27T11:08:52.982679Z"
    },
    "papermill": {
     "duration": 0.023394,
     "end_time": "2024-02-27T11:08:52.986813",
     "exception": false,
     "start_time": "2024-02-27T11:08:52.963419",
     "status": "completed"
    },
    "tags": []
   },
   "outputs": [],
   "source": [
    "avatar_similarity = list(enumerate(sig[0]))"
   ]
  },
  {
   "cell_type": "code",
   "execution_count": 19,
   "id": "e95d8cf3",
   "metadata": {
    "execution": {
     "iopub.execute_input": "2024-02-27T11:08:53.011966Z",
     "iopub.status.busy": "2024-02-27T11:08:53.011522Z",
     "iopub.status.idle": "2024-02-27T11:08:53.023563Z",
     "shell.execute_reply": "2024-02-27T11:08:53.022340Z"
    },
    "papermill": {
     "duration": 0.027721,
     "end_time": "2024-02-27T11:08:53.026252",
     "exception": false,
     "start_time": "2024-02-27T11:08:52.998531",
     "status": "completed"
    },
    "tags": []
   },
   "outputs": [
    {
     "data": {
      "text/plain": [
       "'Obitaemyy Ostrov'"
      ]
     },
     "execution_count": 19,
     "metadata": {},
     "output_type": "execute_result"
    }
   ],
   "source": [
    "avatar_similarity_sorted = sorted(avatar_similarity,key=lambda x: x[1],reverse=True)\n",
    "#top 10 movies similar to avatar are\n",
    "avatar_similarity_sorted[1:11]\n",
    "#indice of high similar movie to avatar\n",
    "indice_similar_to_avatar = avatar_similarity_sorted[1]\n",
    "indice_similar_to_avatar[0]\n",
    "# getting his title using his indice\n",
    "df_movies_merged['original_title'].iloc[indice_similar_to_avatar[0]]\n",
    "   "
   ]
  },
  {
   "cell_type": "code",
   "execution_count": 20,
   "id": "c2555320",
   "metadata": {
    "execution": {
     "iopub.execute_input": "2024-02-27T11:08:53.051822Z",
     "iopub.status.busy": "2024-02-27T11:08:53.051376Z",
     "iopub.status.idle": "2024-02-27T11:08:53.058905Z",
     "shell.execute_reply": "2024-02-27T11:08:53.057567Z"
    },
    "papermill": {
     "duration": 0.023283,
     "end_time": "2024-02-27T11:08:53.061391",
     "exception": false,
     "start_time": "2024-02-27T11:08:53.038108",
     "status": "completed"
    },
    "tags": []
   },
   "outputs": [],
   "source": [
    "def  give_rec(title,sig=sig):\n",
    "    #get the index corresponding to original_title\n",
    "    idx = indices[title]\n",
    "     \n",
    "    #get the pairwise similarity scores \n",
    "    sig_scores = list(enumerate(sig[idx]))\n",
    "    \n",
    "    #sort the movies\n",
    "    sig_scores = sorted(sig_scores, key=lambda x: x[1],reverse= True)\n",
    "    \n",
    "    #scores of the 10 most similar movies\n",
    "    sig_scores = sig_scores[1:11]\n",
    "    \n",
    "    #movie indices\n",
    "    movie_indices = [ i[0]for i in sig_scores]\n",
    "    return df_movies_merged['original_title'].iloc[movie_indices]\n",
    "    "
   ]
  },
  {
   "cell_type": "code",
   "execution_count": 21,
   "id": "9355d050",
   "metadata": {
    "execution": {
     "iopub.execute_input": "2024-02-27T11:08:53.086700Z",
     "iopub.status.busy": "2024-02-27T11:08:53.086229Z",
     "iopub.status.idle": "2024-02-27T11:08:53.100377Z",
     "shell.execute_reply": "2024-02-27T11:08:53.099211Z"
    },
    "papermill": {
     "duration": 0.029579,
     "end_time": "2024-02-27T11:08:53.102762",
     "exception": false,
     "start_time": "2024-02-27T11:08:53.073183",
     "status": "completed"
    },
    "tags": []
   },
   "outputs": [
    {
     "data": {
      "text/plain": [
       "1720                        Kick-Ass\n",
       "5                       Spider-Man 3\n",
       "38          The Amazing Spider-Man 2\n",
       "20            The Amazing Spider-Man\n",
       "30                      Spider-Man 2\n",
       "1534                   Arachnophobia\n",
       "2481                     How to Deal\n",
       "4477    All the Boys Love Mandy Lane\n",
       "2817                        WarGames\n",
       "4510            Julija in Alfa Romeo\n",
       "Name: original_title, dtype: object"
      ]
     },
     "execution_count": 21,
     "metadata": {},
     "output_type": "execute_result"
    }
   ],
   "source": [
    "give_rec('Spider-Man')"
   ]
  },
  {
   "cell_type": "markdown",
   "id": "f0ea32d8",
   "metadata": {
    "papermill": {
     "duration": 0.01162,
     "end_time": "2024-02-27T11:08:53.126606",
     "exception": false,
     "start_time": "2024-02-27T11:08:53.114986",
     "status": "completed"
    },
    "tags": []
   },
   "source": [
    "*Conclusion:*\n",
    "if a user watch a movie,we'll recommend to him 10 most movies that might like  \n"
   ]
  },
  {
   "cell_type": "code",
   "execution_count": null,
   "id": "1c09feba",
   "metadata": {
    "papermill": {
     "duration": 0.012644,
     "end_time": "2024-02-27T11:08:53.151804",
     "exception": false,
     "start_time": "2024-02-27T11:08:53.139160",
     "status": "completed"
    },
    "tags": []
   },
   "outputs": [],
   "source": []
  }
 ],
 "metadata": {
  "kaggle": {
   "accelerator": "none",
   "dataSources": [
    {
     "datasetId": 138,
     "sourceId": 4508,
     "sourceType": "datasetVersion"
    }
   ],
   "dockerImageVersionId": 30646,
   "isGpuEnabled": false,
   "isInternetEnabled": false,
   "language": "python",
   "sourceType": "notebook"
  },
  "kernelspec": {
   "display_name": "Python 3",
   "language": "python",
   "name": "python3"
  },
  "language_info": {
   "codemirror_mode": {
    "name": "ipython",
    "version": 3
   },
   "file_extension": ".py",
   "mimetype": "text/x-python",
   "name": "python",
   "nbconvert_exporter": "python",
   "pygments_lexer": "ipython3",
   "version": "3.10.13"
  },
  "papermill": {
   "default_parameters": {},
   "duration": 13.09498,
   "end_time": "2024-02-27T11:08:54.087904",
   "environment_variables": {},
   "exception": null,
   "input_path": "__notebook__.ipynb",
   "output_path": "__notebook__.ipynb",
   "parameters": {},
   "start_time": "2024-02-27T11:08:40.992924",
   "version": "2.5.0"
  }
 },
 "nbformat": 4,
 "nbformat_minor": 5
}
